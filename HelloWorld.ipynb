{
 "cells": [
  {
   "cell_type": "code",
   "execution_count": 1,
   "id": "63d42d05-4523-46f4-9377-c0d4a8f8726d",
   "metadata": {},
   "outputs": [
    {
     "name": "stdout",
     "output_type": "stream",
     "text": [
      "Hello, world!\n"
     ]
    }
   ],
   "source": [
    "print(\"Hello, world!\")"
   ]
  },
  {
   "cell_type": "markdown",
   "id": "31e9b030-ea97-46b5-90ae-35351893a417",
   "metadata": {},
   "source": [
    "# My First Markdown Heading"
   ]
  },
  {
   "cell_type": "markdown",
   "id": "1529da4a-d1c5-40af-8f48-812836a5be74",
   "metadata": {},
   "source": [
    "## My Second Markdown Heading"
   ]
  },
  {
   "cell_type": "markdown",
   "id": "e36368f8-0589-4c6b-80e7-46709e266b18",
   "metadata": {},
   "source": [
    "This is some **bold** text."
   ]
  },
  {
   "cell_type": "markdown",
   "id": "1af9d16b-0d59-4521-a38e-5c1e2674f81d",
   "metadata": {},
   "source": [
    "1. First item\n",
    "2. Second item\n",
    "3. Third item"
   ]
  },
  {
   "cell_type": "code",
   "execution_count": 3,
   "id": "8afedabb-91e0-4a35-8feb-0831fdfed352",
   "metadata": {},
   "outputs": [],
   "source": [
    "my_var = 5"
   ]
  },
  {
   "cell_type": "code",
   "execution_count": 4,
   "id": "631c9b2d-9ee4-4765-a977-1c6c9491102f",
   "metadata": {},
   "outputs": [
    {
     "name": "stdout",
     "output_type": "stream",
     "text": [
      "10\n"
     ]
    }
   ],
   "source": [
    "result = my_var * 2\n",
    "print(result)"
   ]
  },
  {
   "cell_type": "markdown",
   "id": "86a98232-6bbc-4487-99b8-9ef7991b1fff",
   "metadata": {},
   "source": [
    "# Test new cell"
   ]
  },
  {
   "cell_type": "code",
   "execution_count": null,
   "id": "94dca669-a1b1-4242-b10d-2d0d62572868",
   "metadata": {},
   "outputs": [],
   "source": []
  }
 ],
 "metadata": {
  "kernelspec": {
   "display_name": "Python 3 (ipykernel)",
   "language": "python",
   "name": "python3"
  },
  "language_info": {
   "codemirror_mode": {
    "name": "ipython",
    "version": 3
   },
   "file_extension": ".py",
   "mimetype": "text/x-python",
   "name": "python",
   "nbconvert_exporter": "python",
   "pygments_lexer": "ipython3",
   "version": "3.10.9"
  }
 },
 "nbformat": 4,
 "nbformat_minor": 5
}
